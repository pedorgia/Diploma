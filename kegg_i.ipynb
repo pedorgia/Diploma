{
 "cells": [
  {
   "cell_type": "code",
   "execution_count": 1,
   "metadata": {},
   "outputs": [],
   "source": [
    "exe = \"C:/Users/DerUser/Desktop/course_work/TMtools20190822/TMalign_g.exe\"\n",
    "proteins_full = \"C:/Users/DerUser/Desktop/course_work/kegg1/\"\n",
    "templates_full = \"C:/Users/DerUser/Desktop/course_work/interfaces/templates/\"\n",
    "m = \"-m\"\n",
    "matr_folder = \"C:/Users/DerUser/Desktop/course_work/kegg1_i_m/\""
   ]
  },
  {
   "cell_type": "code",
   "execution_count": 2,
   "metadata": {},
   "outputs": [],
   "source": [
    "import glob, os\n",
    "full_files_targets = []\n",
    "os.chdir(\"C:/Users/DerUser/Desktop/course_work/kegg1\")\n",
    "for file in glob.glob(\"*.pdb\"):\n",
    "    full_files_targets.append(file)"
   ]
  },
  {
   "cell_type": "code",
   "execution_count": 3,
   "metadata": {},
   "outputs": [
    {
     "name": "stdout",
     "output_type": "stream",
     "text": [
      "['P15586.pdb', 'Q1LZH9.pdb', 'Q8BFR4.pdb']\n"
     ]
    }
   ],
   "source": [
    "print(full_files_targets)"
   ]
  },
  {
   "cell_type": "code",
   "execution_count": 4,
   "metadata": {},
   "outputs": [],
   "source": [
    "full_files_templates = []\n",
    "os.chdir(\"C:/Users/DerUser/Desktop/course_work/interfaces/templates\")\n",
    "for file in glob.glob(\"*.pdb\"):\n",
    "    full_files_templates.append(file)"
   ]
  },
  {
   "cell_type": "code",
   "execution_count": 5,
   "metadata": {},
   "outputs": [
    {
     "name": "stdout",
     "output_type": "stream",
     "text": [
      "11872\n"
     ]
    }
   ],
   "source": [
    "print(len(full_files_templates))"
   ]
  },
  {
   "cell_type": "code",
   "execution_count": 6,
   "metadata": {},
   "outputs": [],
   "source": [
    "import subprocess\n",
    "def tmalign(prot,tmp):\n",
    "    args = [exe,proteins_full+prot,templates_full+tmp,m,matr_folder+prot[:-4]+'_'+tmp[:-4]+'.txt']\n",
    "    return norm_score(str(subprocess.check_output(args)).split(\"\\\\n\"))"
   ]
  },
  {
   "cell_type": "code",
   "execution_count": 7,
   "metadata": {},
   "outputs": [],
   "source": [
    "def norm_score(output):\n",
    "    tm_score = []\n",
    "    #print(output)\n",
    "    for line in output:\n",
    "        if line.startswith('TM-score= '):\n",
    "            tm_score.append(float(line[10:17]))\n",
    "    return tm_score[1]"
   ]
  },
  {
   "cell_type": "code",
   "execution_count": 8,
   "metadata": {},
   "outputs": [],
   "source": [
    "from tqdm import tqdm\n",
    "def get_top (target1, templates):\n",
    "    top_tmp = []\n",
    "    top_score = []\n",
    "    sc_1 = []\n",
    "    sc_2 = []\n",
    "    os.chdir(\"C:/Users/DerUser/Desktop/course_work/kegg1_i_top\")\n",
    "    output_top = open('res_i_'+target1[:-4]+'.txt','w')\n",
    "    for j in tqdm(range(0,len(templates),2)): #len(templates)\n",
    "        score1 = tmalign(target1,templates[j])\n",
    "        score2 = tmalign(target1,templates[j+1])\n",
    "        sc_1.append(score1)\n",
    "        sc_2.append(score2)\n",
    "    for i in range(len(sc_1)):\n",
    "        output_top.write(templates[2*i] + ' ' + str(sc_1[i]) +' \\n')\n",
    "        output_top.write(templates[2*i+1] + ' ' + str(sc_2[i]) +' \\n')\n",
    "    output_top.close()"
   ]
  },
  {
   "cell_type": "code",
   "execution_count": 9,
   "metadata": {},
   "outputs": [
    {
     "name": "stderr",
     "output_type": "stream",
     "text": [
      "100%|██████████| 5936/5936 [2:16:16<00:00,  1.38s/it]  \n",
      "100%|██████████| 5936/5936 [2:03:22<00:00,  1.25s/it]  \n",
      "100%|██████████| 5936/5936 [8:38:33<00:00,  5.24s/it]       \n"
     ]
    }
   ],
   "source": [
    "for line in full_files_targets:\n",
    "    get_top(line,full_files_templates)"
   ]
  },
  {
   "cell_type": "code",
   "execution_count": null,
   "metadata": {},
   "outputs": [],
   "source": [
    "get_top(full_files_targets[5],full_files_templates)"
   ]
  },
  {
   "cell_type": "code",
   "execution_count": 10,
   "metadata": {},
   "outputs": [],
   "source": [
    "import glob, os\n",
    "os.chdir(\"C:/Users/DerUser/Desktop/course_work/kegg1_i_top\")\n",
    "length = len(full_files_targets)\n",
    "\n",
    "for i in range(length-1):\n",
    "    f1 = open('res_i_'+full_files_targets[i][:-4]+'.txt','r')\n",
    "    main = []\n",
    "    for line in f1:\n",
    "        main.append(line)\n",
    "    f1.close()\n",
    "    m = full_files_targets[i][:-4]\n",
    "    for j in range(i+1,length):\n",
    "        tmp = []\n",
    "        t = full_files_targets[j][:-4]\n",
    "        f_out = open('top_i_'+m+ '_'+t+'.txt','w')\n",
    "        f2 = open('res_i_'+full_files_targets[j][:-4]+'.txt','r')\n",
    "        for line in f2:\n",
    "            tmp.append(line)\n",
    "        f2.close()\n",
    "        for i in range(len(main)):\n",
    "            f_out.write(main[i][:-2]+' '+tmp[i].split(' ')[1]+'\\n')\n",
    "        f_out.close()"
   ]
  },
  {
   "cell_type": "code",
   "execution_count": null,
   "metadata": {},
   "outputs": [],
   "source": []
  }
 ],
 "metadata": {
  "kernelspec": {
   "display_name": "Python 3",
   "language": "python",
   "name": "python3"
  },
  "language_info": {
   "codemirror_mode": {
    "name": "ipython",
    "version": 3
   },
   "file_extension": ".py",
   "mimetype": "text/x-python",
   "name": "python",
   "nbconvert_exporter": "python",
   "pygments_lexer": "ipython3",
   "version": "3.7.4"
  }
 },
 "nbformat": 4,
 "nbformat_minor": 2
}
