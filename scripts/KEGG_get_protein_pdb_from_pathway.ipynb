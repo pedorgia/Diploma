{
 "cells": [
  {
   "cell_type": "code",
   "execution_count": null,
   "metadata": {},
   "outputs": [],
   "source": [
    "from bioservices.kegg import KEGG\n",
    "k = KEGG()"
   ]
  },
  {
   "cell_type": "code",
   "execution_count": null,
   "metadata": {},
   "outputs": [],
   "source": [
    "data = k.get('K09648')"
   ]
  },
  {
   "cell_type": "code",
   "execution_count": null,
   "metadata": {},
   "outputs": [],
   "source": [
    "data"
   ]
  },
  {
   "cell_type": "code",
   "execution_count": null,
   "metadata": {},
   "outputs": [],
   "source": [
    "k.parse(data)"
   ]
  },
  {
   "cell_type": "code",
   "execution_count": 6,
   "metadata": {},
   "outputs": [],
   "source": [
    "import glob, os\n",
    "os.chdir(\"C:/Users/DerUser/Desktop\")\n",
    "file = open('K01137.html','r') #K09648\n",
    "prot_id = []\n",
    "for line in file:\n",
    "    if line.startswith('<a href'):\n",
    "        start = line.find('[')\n",
    "        end = line.find(']')\n",
    "        prot_id.append(line[start+1:end])"
   ]
  },
  {
   "cell_type": "code",
   "execution_count": 7,
   "metadata": {
    "collapsed": true
   },
   "outputs": [
    {
     "data": {
      "text/plain": [
       "['A0A024RBC5',\n",
       " 'A0A088A3D6',\n",
       " 'A0A0D9QWM4',\n",
       " 'A0A0J9RCY8',\n",
       " 'A0A0P7VG43',\n",
       " 'A0A0R4IMG2',\n",
       " 'A0A151PFF3',\n",
       " 'A0A158NXD8',\n",
       " 'A0A158NY37',\n",
       " 'A0A194R227',\n",
       " 'A0A1A8A071',\n",
       " 'A0A1D5QTV5',\n",
       " 'A0A1E7EUS6',\n",
       " 'A0A1E7F6F2',\n",
       " 'A0A1E7FLU6',\n",
       " 'A0A1I8N5Y6',\n",
       " 'A0A1L8GYG5',\n",
       " 'A0A1S3HSF6',\n",
       " 'A0A1S3HSG3',\n",
       " 'A0A1S3HTU6',\n",
       " 'A0A1S3IG37',\n",
       " 'A0A1S3IGB9',\n",
       " 'A0A1S3II62',\n",
       " 'A0A1S3IPP6',\n",
       " 'A0A1S3QF30',\n",
       " 'A0A1S3QKV6',\n",
       " 'A0A1S3QZC2',\n",
       " 'A0A1S3QZR1',\n",
       " 'A0A1U7S123',\n",
       " 'A0A1W2WJ92',\n",
       " 'A0A1X7T1H7',\n",
       " 'A0A1X7VDU3',\n",
       " 'A0A212FN11',\n",
       " 'A0A250YJX1',\n",
       " 'A0A2D0ST31',\n",
       " 'A0A2I0MJ73',\n",
       " 'A0A2I3HGX1',\n",
       " 'A0A2I3RN98',\n",
       " 'A0A2I4AM39',\n",
       " 'A0A2I4C154',\n",
       " 'A0A2I4C8V4',\n",
       " 'A0A2K5TKS2',\n",
       " 'A0A2K6KAI9',\n",
       " 'A0A2K6P0D0',\n",
       " 'A0A2K6SKJ3',\n",
       " 'A0A2R9AU63',\n",
       " 'A0A2U3WWR2',\n",
       " 'A0A2Y9DUU9',\n",
       " 'A0A2Y9F808',\n",
       " 'A0A2Y9N7D9',\n",
       " 'A0A340WIT1',\n",
       " 'A0A384BK18',\n",
       " 'A0A3B1KE04',\n",
       " 'A0A3B1KGB4',\n",
       " 'A0A3P8VDZ4',\n",
       " 'A0A3P8ZAH0',\n",
       " 'A0A3P8ZUE2',\n",
       " 'A0A3P9ARU4',\n",
       " 'A0A3P9PLX2',\n",
       " 'A0A3Q3ARN0',\n",
       " 'A0A3Q3AZ47',\n",
       " 'A0A3Q3D4M5',\n",
       " 'A0A3Q7SM27',\n",
       " 'A0A3Q7VU44',\n",
       " 'A7RFZ5',\n",
       " 'A9JRM2',\n",
       " 'A9UUK2',\n",
       " 'A9VAF4',\n",
       " 'B0W0S6',\n",
       " 'B3MGY0',\n",
       " 'B3NRL5',\n",
       " 'B4GCV2',\n",
       " 'B4HQI3',\n",
       " 'B4JJV2',\n",
       " 'B4L7H5',\n",
       " 'B4MGI5',\n",
       " 'B4P4I0',\n",
       " 'B7PTX1',\n",
       " 'C0HAB4',\n",
       " 'C3Z4A9',\n",
       " 'D2A3Q4',\n",
       " 'E0VPN4',\n",
       " 'E9GHF3',\n",
       " 'F0Y2A5',\n",
       " 'F0Y3J1',\n",
       " 'F0YCG4',\n",
       " 'F0YEL7',\n",
       " 'F0YFU9',\n",
       " 'F1NI04',\n",
       " 'F2UKQ5',\n",
       " 'F2UPU2',\n",
       " 'F2USV4',\n",
       " 'F7ENH2',\n",
       " 'G1KBV9',\n",
       " 'G1MIJ5',\n",
       " 'G1SQU0',\n",
       " 'G3RH59',\n",
       " 'G5ARJ4',\n",
       " 'H2NHX9',\n",
       " 'H2U3M8',\n",
       " 'H2VEE9',\n",
       " 'H3AXP2',\n",
       " 'H9GJP9',\n",
       " 'H9JTU0',\n",
       " 'I0GZL7',\n",
       " 'I3KN67',\n",
       " 'L5JTU8',\n",
       " 'P15586',\n",
       " 'P50426',\n",
       " 'Q17CP8',\n",
       " 'Q1LZH9',\n",
       " 'Q2JAY4',\n",
       " 'Q32KJ5',\n",
       " 'Q4S1W8',\n",
       " 'Q4S5F3',\n",
       " 'Q4V902',\n",
       " 'Q5BIL9',\n",
       " 'Q5DYR9',\n",
       " 'Q5M918',\n",
       " 'Q7Q2M5',\n",
       " 'Q7UH28',\n",
       " 'Q7UXZ9',\n",
       " 'Q7UZ42',\n",
       " 'Q7Z3X3',\n",
       " 'Q8AVH8',\n",
       " 'Q8BFR4',\n",
       " 'Q95R73',\n",
       " 'R1BKM1',\n",
       " 'R1C9H7',\n",
       " 'R1EB54',\n",
       " 'R1EZV2',\n",
       " 'R1FCY9',\n",
       " 'R4LFB5',\n",
       " 'V4B0G9',\n",
       " 'V4C7K4',\n",
       " 'W5NZ62',\n",
       " 'W5UA20']"
      ]
     },
     "execution_count": 7,
     "metadata": {},
     "output_type": "execute_result"
    }
   ],
   "source": [
    "prot_id"
   ]
  },
  {
   "cell_type": "code",
   "execution_count": null,
   "metadata": {},
   "outputs": [],
   "source": [
    "from Bio import SeqIO\n",
    "import urllib\n",
    "handle = urllib.request.urlopen(\"http://www.uniprot.org/uniprot/P46972.txt\")"
   ]
  },
  {
   "cell_type": "code",
   "execution_count": null,
   "metadata": {},
   "outputs": [],
   "source": [
    "str(handle.read()).split('\\\\n')[0].find('Reviewed') >= 0"
   ]
  },
  {
   "cell_type": "code",
   "execution_count": 8,
   "metadata": {},
   "outputs": [
    {
     "name": "stderr",
     "output_type": "stream",
     "text": [
      "100%|██████████| 137/137 [02:16<00:00,  1.00it/s]\n"
     ]
    }
   ],
   "source": [
    "from Bio import SeqIO\n",
    "import urllib\n",
    "from tqdm import tqdm\n",
    "rev_prot = []\n",
    "for line in tqdm(prot_id):\n",
    "    handle = urllib.request.urlopen(\"http://www.uniprot.org/uniprot/\"+line+\".txt\")\n",
    "    if str(handle.read()).split('\\\\n')[0].find('Reviewed') >= 0:\n",
    "        rev_prot.append(line)"
   ]
  },
  {
   "cell_type": "code",
   "execution_count": 10,
   "metadata": {},
   "outputs": [
    {
     "data": {
      "text/plain": [
       "['P15586', 'P50426', 'Q1LZH9', 'Q8BFR4']"
      ]
     },
     "execution_count": 10,
     "metadata": {},
     "output_type": "execute_result"
    }
   ],
   "source": [
    "rev_prot"
   ]
  },
  {
   "cell_type": "code",
   "execution_count": null,
   "metadata": {},
   "outputs": [],
   "source": [
    "handle = urllib.request.urlopen(\"https://swissmodel.expasy.org/repository/uniprot/P46972.pdb\")"
   ]
  },
  {
   "cell_type": "code",
   "execution_count": null,
   "metadata": {},
   "outputs": [],
   "source": [
    "handle"
   ]
  },
  {
   "cell_type": "code",
   "execution_count": 12,
   "metadata": {
    "collapsed": true
   },
   "outputs": [
    {
     "ename": "HTTPError",
     "evalue": "HTTP Error 404: Not Found",
     "output_type": "error",
     "traceback": [
      "\u001b[1;31m---------------------------------------------------------------------------\u001b[0m",
      "\u001b[1;31mHTTPError\u001b[0m                                 Traceback (most recent call last)",
      "\u001b[1;32m<ipython-input-12-1b7eec0534cc>\u001b[0m in \u001b[0;36m<module>\u001b[1;34m\u001b[0m\n\u001b[1;32m----> 1\u001b[1;33m \u001b[0mhandle\u001b[0m \u001b[1;33m=\u001b[0m \u001b[0murllib\u001b[0m\u001b[1;33m.\u001b[0m\u001b[0mrequest\u001b[0m\u001b[1;33m.\u001b[0m\u001b[0murlopen\u001b[0m\u001b[1;33m(\u001b[0m\u001b[1;34m\"https://swissmodel.expasy.org/repository/uniprot/P50426.pdb\"\u001b[0m\u001b[1;33m)\u001b[0m\u001b[1;33m\u001b[0m\u001b[1;33m\u001b[0m\u001b[0m\n\u001b[0m",
      "\u001b[1;32m~\\Anaconda3\\lib\\urllib\\request.py\u001b[0m in \u001b[0;36murlopen\u001b[1;34m(url, data, timeout, cafile, capath, cadefault, context)\u001b[0m\n\u001b[0;32m    220\u001b[0m     \u001b[1;32melse\u001b[0m\u001b[1;33m:\u001b[0m\u001b[1;33m\u001b[0m\u001b[1;33m\u001b[0m\u001b[0m\n\u001b[0;32m    221\u001b[0m         \u001b[0mopener\u001b[0m \u001b[1;33m=\u001b[0m \u001b[0m_opener\u001b[0m\u001b[1;33m\u001b[0m\u001b[1;33m\u001b[0m\u001b[0m\n\u001b[1;32m--> 222\u001b[1;33m     \u001b[1;32mreturn\u001b[0m \u001b[0mopener\u001b[0m\u001b[1;33m.\u001b[0m\u001b[0mopen\u001b[0m\u001b[1;33m(\u001b[0m\u001b[0murl\u001b[0m\u001b[1;33m,\u001b[0m \u001b[0mdata\u001b[0m\u001b[1;33m,\u001b[0m \u001b[0mtimeout\u001b[0m\u001b[1;33m)\u001b[0m\u001b[1;33m\u001b[0m\u001b[1;33m\u001b[0m\u001b[0m\n\u001b[0m\u001b[0;32m    223\u001b[0m \u001b[1;33m\u001b[0m\u001b[0m\n\u001b[0;32m    224\u001b[0m \u001b[1;32mdef\u001b[0m \u001b[0minstall_opener\u001b[0m\u001b[1;33m(\u001b[0m\u001b[0mopener\u001b[0m\u001b[1;33m)\u001b[0m\u001b[1;33m:\u001b[0m\u001b[1;33m\u001b[0m\u001b[1;33m\u001b[0m\u001b[0m\n",
      "\u001b[1;32m~\\Anaconda3\\lib\\urllib\\request.py\u001b[0m in \u001b[0;36mopen\u001b[1;34m(self, fullurl, data, timeout)\u001b[0m\n\u001b[0;32m    529\u001b[0m         \u001b[1;32mfor\u001b[0m \u001b[0mprocessor\u001b[0m \u001b[1;32min\u001b[0m \u001b[0mself\u001b[0m\u001b[1;33m.\u001b[0m\u001b[0mprocess_response\u001b[0m\u001b[1;33m.\u001b[0m\u001b[0mget\u001b[0m\u001b[1;33m(\u001b[0m\u001b[0mprotocol\u001b[0m\u001b[1;33m,\u001b[0m \u001b[1;33m[\u001b[0m\u001b[1;33m]\u001b[0m\u001b[1;33m)\u001b[0m\u001b[1;33m:\u001b[0m\u001b[1;33m\u001b[0m\u001b[1;33m\u001b[0m\u001b[0m\n\u001b[0;32m    530\u001b[0m             \u001b[0mmeth\u001b[0m \u001b[1;33m=\u001b[0m \u001b[0mgetattr\u001b[0m\u001b[1;33m(\u001b[0m\u001b[0mprocessor\u001b[0m\u001b[1;33m,\u001b[0m \u001b[0mmeth_name\u001b[0m\u001b[1;33m)\u001b[0m\u001b[1;33m\u001b[0m\u001b[1;33m\u001b[0m\u001b[0m\n\u001b[1;32m--> 531\u001b[1;33m             \u001b[0mresponse\u001b[0m \u001b[1;33m=\u001b[0m \u001b[0mmeth\u001b[0m\u001b[1;33m(\u001b[0m\u001b[0mreq\u001b[0m\u001b[1;33m,\u001b[0m \u001b[0mresponse\u001b[0m\u001b[1;33m)\u001b[0m\u001b[1;33m\u001b[0m\u001b[1;33m\u001b[0m\u001b[0m\n\u001b[0m\u001b[0;32m    532\u001b[0m \u001b[1;33m\u001b[0m\u001b[0m\n\u001b[0;32m    533\u001b[0m         \u001b[1;32mreturn\u001b[0m \u001b[0mresponse\u001b[0m\u001b[1;33m\u001b[0m\u001b[1;33m\u001b[0m\u001b[0m\n",
      "\u001b[1;32m~\\Anaconda3\\lib\\urllib\\request.py\u001b[0m in \u001b[0;36mhttp_response\u001b[1;34m(self, request, response)\u001b[0m\n\u001b[0;32m    639\u001b[0m         \u001b[1;32mif\u001b[0m \u001b[1;32mnot\u001b[0m \u001b[1;33m(\u001b[0m\u001b[1;36m200\u001b[0m \u001b[1;33m<=\u001b[0m \u001b[0mcode\u001b[0m \u001b[1;33m<\u001b[0m \u001b[1;36m300\u001b[0m\u001b[1;33m)\u001b[0m\u001b[1;33m:\u001b[0m\u001b[1;33m\u001b[0m\u001b[1;33m\u001b[0m\u001b[0m\n\u001b[0;32m    640\u001b[0m             response = self.parent.error(\n\u001b[1;32m--> 641\u001b[1;33m                 'http', request, response, code, msg, hdrs)\n\u001b[0m\u001b[0;32m    642\u001b[0m \u001b[1;33m\u001b[0m\u001b[0m\n\u001b[0;32m    643\u001b[0m         \u001b[1;32mreturn\u001b[0m \u001b[0mresponse\u001b[0m\u001b[1;33m\u001b[0m\u001b[1;33m\u001b[0m\u001b[0m\n",
      "\u001b[1;32m~\\Anaconda3\\lib\\urllib\\request.py\u001b[0m in \u001b[0;36merror\u001b[1;34m(self, proto, *args)\u001b[0m\n\u001b[0;32m    567\u001b[0m         \u001b[1;32mif\u001b[0m \u001b[0mhttp_err\u001b[0m\u001b[1;33m:\u001b[0m\u001b[1;33m\u001b[0m\u001b[1;33m\u001b[0m\u001b[0m\n\u001b[0;32m    568\u001b[0m             \u001b[0margs\u001b[0m \u001b[1;33m=\u001b[0m \u001b[1;33m(\u001b[0m\u001b[0mdict\u001b[0m\u001b[1;33m,\u001b[0m \u001b[1;34m'default'\u001b[0m\u001b[1;33m,\u001b[0m \u001b[1;34m'http_error_default'\u001b[0m\u001b[1;33m)\u001b[0m \u001b[1;33m+\u001b[0m \u001b[0morig_args\u001b[0m\u001b[1;33m\u001b[0m\u001b[1;33m\u001b[0m\u001b[0m\n\u001b[1;32m--> 569\u001b[1;33m             \u001b[1;32mreturn\u001b[0m \u001b[0mself\u001b[0m\u001b[1;33m.\u001b[0m\u001b[0m_call_chain\u001b[0m\u001b[1;33m(\u001b[0m\u001b[1;33m*\u001b[0m\u001b[0margs\u001b[0m\u001b[1;33m)\u001b[0m\u001b[1;33m\u001b[0m\u001b[1;33m\u001b[0m\u001b[0m\n\u001b[0m\u001b[0;32m    570\u001b[0m \u001b[1;33m\u001b[0m\u001b[0m\n\u001b[0;32m    571\u001b[0m \u001b[1;31m# XXX probably also want an abstract factory that knows when it makes\u001b[0m\u001b[1;33m\u001b[0m\u001b[1;33m\u001b[0m\u001b[1;33m\u001b[0m\u001b[0m\n",
      "\u001b[1;32m~\\Anaconda3\\lib\\urllib\\request.py\u001b[0m in \u001b[0;36m_call_chain\u001b[1;34m(self, chain, kind, meth_name, *args)\u001b[0m\n\u001b[0;32m    501\u001b[0m         \u001b[1;32mfor\u001b[0m \u001b[0mhandler\u001b[0m \u001b[1;32min\u001b[0m \u001b[0mhandlers\u001b[0m\u001b[1;33m:\u001b[0m\u001b[1;33m\u001b[0m\u001b[1;33m\u001b[0m\u001b[0m\n\u001b[0;32m    502\u001b[0m             \u001b[0mfunc\u001b[0m \u001b[1;33m=\u001b[0m \u001b[0mgetattr\u001b[0m\u001b[1;33m(\u001b[0m\u001b[0mhandler\u001b[0m\u001b[1;33m,\u001b[0m \u001b[0mmeth_name\u001b[0m\u001b[1;33m)\u001b[0m\u001b[1;33m\u001b[0m\u001b[1;33m\u001b[0m\u001b[0m\n\u001b[1;32m--> 503\u001b[1;33m             \u001b[0mresult\u001b[0m \u001b[1;33m=\u001b[0m \u001b[0mfunc\u001b[0m\u001b[1;33m(\u001b[0m\u001b[1;33m*\u001b[0m\u001b[0margs\u001b[0m\u001b[1;33m)\u001b[0m\u001b[1;33m\u001b[0m\u001b[1;33m\u001b[0m\u001b[0m\n\u001b[0m\u001b[0;32m    504\u001b[0m             \u001b[1;32mif\u001b[0m \u001b[0mresult\u001b[0m \u001b[1;32mis\u001b[0m \u001b[1;32mnot\u001b[0m \u001b[1;32mNone\u001b[0m\u001b[1;33m:\u001b[0m\u001b[1;33m\u001b[0m\u001b[1;33m\u001b[0m\u001b[0m\n\u001b[0;32m    505\u001b[0m                 \u001b[1;32mreturn\u001b[0m \u001b[0mresult\u001b[0m\u001b[1;33m\u001b[0m\u001b[1;33m\u001b[0m\u001b[0m\n",
      "\u001b[1;32m~\\Anaconda3\\lib\\urllib\\request.py\u001b[0m in \u001b[0;36mhttp_error_default\u001b[1;34m(self, req, fp, code, msg, hdrs)\u001b[0m\n\u001b[0;32m    647\u001b[0m \u001b[1;32mclass\u001b[0m \u001b[0mHTTPDefaultErrorHandler\u001b[0m\u001b[1;33m(\u001b[0m\u001b[0mBaseHandler\u001b[0m\u001b[1;33m)\u001b[0m\u001b[1;33m:\u001b[0m\u001b[1;33m\u001b[0m\u001b[1;33m\u001b[0m\u001b[0m\n\u001b[0;32m    648\u001b[0m     \u001b[1;32mdef\u001b[0m \u001b[0mhttp_error_default\u001b[0m\u001b[1;33m(\u001b[0m\u001b[0mself\u001b[0m\u001b[1;33m,\u001b[0m \u001b[0mreq\u001b[0m\u001b[1;33m,\u001b[0m \u001b[0mfp\u001b[0m\u001b[1;33m,\u001b[0m \u001b[0mcode\u001b[0m\u001b[1;33m,\u001b[0m \u001b[0mmsg\u001b[0m\u001b[1;33m,\u001b[0m \u001b[0mhdrs\u001b[0m\u001b[1;33m)\u001b[0m\u001b[1;33m:\u001b[0m\u001b[1;33m\u001b[0m\u001b[1;33m\u001b[0m\u001b[0m\n\u001b[1;32m--> 649\u001b[1;33m         \u001b[1;32mraise\u001b[0m \u001b[0mHTTPError\u001b[0m\u001b[1;33m(\u001b[0m\u001b[0mreq\u001b[0m\u001b[1;33m.\u001b[0m\u001b[0mfull_url\u001b[0m\u001b[1;33m,\u001b[0m \u001b[0mcode\u001b[0m\u001b[1;33m,\u001b[0m \u001b[0mmsg\u001b[0m\u001b[1;33m,\u001b[0m \u001b[0mhdrs\u001b[0m\u001b[1;33m,\u001b[0m \u001b[0mfp\u001b[0m\u001b[1;33m)\u001b[0m\u001b[1;33m\u001b[0m\u001b[1;33m\u001b[0m\u001b[0m\n\u001b[0m\u001b[0;32m    650\u001b[0m \u001b[1;33m\u001b[0m\u001b[0m\n\u001b[0;32m    651\u001b[0m \u001b[1;32mclass\u001b[0m \u001b[0mHTTPRedirectHandler\u001b[0m\u001b[1;33m(\u001b[0m\u001b[0mBaseHandler\u001b[0m\u001b[1;33m)\u001b[0m\u001b[1;33m:\u001b[0m\u001b[1;33m\u001b[0m\u001b[1;33m\u001b[0m\u001b[0m\n",
      "\u001b[1;31mHTTPError\u001b[0m: HTTP Error 404: Not Found"
     ]
    }
   ],
   "source": [
    "handle = urllib.request.urlopen(\"https://swissmodel.expasy.org/repository/uniprot/P50426.pdb\")"
   ]
  },
  {
   "cell_type": "code",
   "execution_count": 14,
   "metadata": {},
   "outputs": [],
   "source": [
    "for line in rev_prot:\n",
    "    os.chdir(\"C:/Users/DerUser/Desktop/course_work/kegg1\")\n",
    "    handle = urllib.request.urlopen(\"https://swissmodel.expasy.org/repository/uniprot/\"+line+'.pdb')\n",
    "    arr = handle.read().decode(\"utf-8\").split('\\n')\n",
    "    file = open(line+'.pdb','w')\n",
    "    for l in arr:\n",
    "        file.write(l + '\\n')\n",
    "    file.close()"
   ]
  },
  {
   "cell_type": "code",
   "execution_count": null,
   "metadata": {},
   "outputs": [],
   "source": []
  }
 ],
 "metadata": {
  "kernelspec": {
   "display_name": "Python 3",
   "language": "python",
   "name": "python3"
  },
  "language_info": {
   "codemirror_mode": {
    "name": "ipython",
    "version": 3
   },
   "file_extension": ".py",
   "mimetype": "text/x-python",
   "name": "python",
   "nbconvert_exporter": "python",
   "pygments_lexer": "ipython3",
   "version": "3.7.4"
  }
 },
 "nbformat": 4,
 "nbformat_minor": 2
}
