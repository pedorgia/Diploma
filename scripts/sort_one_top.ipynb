{
 "cells": [
  {
   "cell_type": "code",
   "execution_count": 1,
   "metadata": {},
   "outputs": [],
   "source": [
    "import glob,os\n",
    "file_names = []\n",
    "os.chdir(\"C:/Users/DerUser/Desktop/course_work/kegg_upd_top\")\n",
    "for file in glob.glob(\"*.txt\"):\n",
    "    file_names.append(file)"
   ]
  },
  {
   "cell_type": "code",
   "execution_count": 5,
   "metadata": {},
   "outputs": [],
   "source": [
    "for fn in file_names:\n",
    "    p1 = []\n",
    "    p2 = []\n",
    "    flag = []\n",
    "    tm = []\n",
    "    file = open(fn,'r')\n",
    "    for line in file:\n",
    "        arr = line.split(' ')\n",
    "        p1.append(arr[0])\n",
    "        p2.append(arr[1])\n",
    "        flag.append(arr[2])\n",
    "        tm.append(float(arr[3]))\n",
    "    file.close()\n",
    "    \n",
    "    index = sorted(range(len(p1)), key=lambda x:tm[x], reverse=True)\n",
    "    file_out = open('sorted_'+fn,'w')\n",
    "    for i in range(len(index)):\n",
    "        file_out.write(p1[index[i]] + ' ' + p2[index[i]] + ' ' + flag[index[i]] + ' ' + str(tm[index[i]]) +' \\n')\n",
    "    file_out.close()"
   ]
  },
  {
   "cell_type": "code",
   "execution_count": 6,
   "metadata": {},
   "outputs": [],
   "source": [
    "import glob,os\n",
    "s_file_names = []\n",
    "os.chdir(\"C:/Users/DerUser/Desktop/course_work/kegg_upd_top\")\n",
    "for file in glob.glob(\"*.txt\"):\n",
    "    if file.startswith('sorted'):\n",
    "        s_file_names.append(file)"
   ]
  },
  {
   "cell_type": "code",
   "execution_count": 4,
   "metadata": {},
   "outputs": [],
   "source": [
    "for sfn in s_file_names:\n",
    "    file = open(sfn,'r')\n",
    "    file_out = open('04_'+sfn,'w')\n",
    "    for line in file:\n",
    "        if float(line.split(' ')[3]) >= 0.4:\n",
    "            file_out.write(line)\n",
    "    file.close()\n",
    "    file_out.close()"
   ]
  },
  {
   "cell_type": "code",
   "execution_count": null,
   "metadata": {},
   "outputs": [],
   "source": []
  }
 ],
 "metadata": {
  "kernelspec": {
   "display_name": "Python 3",
   "language": "python",
   "name": "python3"
  },
  "language_info": {
   "codemirror_mode": {
    "name": "ipython",
    "version": 3
   },
   "file_extension": ".py",
   "mimetype": "text/x-python",
   "name": "python",
   "nbconvert_exporter": "python",
   "pygments_lexer": "ipython3",
   "version": "3.7.4"
  }
 },
 "nbformat": 4,
 "nbformat_minor": 2
}
