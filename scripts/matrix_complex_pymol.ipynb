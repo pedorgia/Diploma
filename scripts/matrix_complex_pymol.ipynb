{
 "cells": [
  {
   "cell_type": "code",
   "execution_count": 1,
   "metadata": {},
   "outputs": [],
   "source": [
    "import glob,os\n",
    "file_names = []\n",
    "os.chdir(\"C:/Users/DerUser/Desktop/course_work/kegg1_upd_top\")\n",
    "for file in glob.glob(\"*.txt\"):\n",
    "    if file.startswith('04'):\n",
    "        file_names.append(file)"
   ]
  },
  {
   "cell_type": "code",
   "execution_count": 2,
   "metadata": {},
   "outputs": [],
   "source": [
    "def get_array_from_matrix(prot,tmp,flag):\n",
    "    if flag == 'i':\n",
    "        os.chdir(\"C:/Users/DerUser/Desktop/course_work/kegg1_i_m\")\n",
    "        m_file = open(prot+'_i'+tmp+'.txt','r')\n",
    "    else:\n",
    "        os.chdir(\"C:/Users/DerUser/Desktop/course_work/kegg1_m\")\n",
    "        m_file = open(prot+'_'+tmp+'.txt','r')\n",
    "    arr = []\n",
    "    for line in m_file:\n",
    "        if line.startswith('0') or line.startswith('1') or line.startswith('2'):\n",
    "            arr.append(float(line[20:35]))\n",
    "            arr.append(float(line[35:50]))\n",
    "            arr.append(float(line[50:65]))\n",
    "            arr.append(float(line[1:20]))\n",
    "    arr.append(0)\n",
    "    arr.append(0)\n",
    "    arr.append(0)\n",
    "    arr.append(1)\n",
    "    m_file.close()\n",
    "    return arr"
   ]
  },
  {
   "cell_type": "code",
   "execution_count": 5,
   "metadata": {},
   "outputs": [],
   "source": [
    "from pymol import cmd\n",
    "def run_pymol_complex(prot,tmp,f,arr):\n",
    "    cmd.reinitialize()\n",
    "    os.chdir(\"C:/Users/DerUser/Desktop/course_work/kegg1\")\n",
    "    cmd.load(prot)\n",
    "    if flag == 'i':\n",
    "        os.chdir(\"C:/Users/DerUser/Desktop/course_work/interfaces/templates\")\n",
    "        cmd.load('i'+tmp)\n",
    "        cmd.transform_object(prot[:-4],arr,homogenous=0)\n",
    "    if flag == 'fs':\n",
    "        os.chdir(\"C:/Users/DerUser/Desktop/course_work/full_structures/templates\")\n",
    "        cmd.load(tmp)\n",
    "        cmd.transform_object(prot[:-4],arr,homogenous=0)\n",
    "    os.chdir(\"C:/Users/DerUser/Desktop/course_work/kegg1_after_matrix\")\n",
    "    cmd.save(prot[:-4]+'_'+tmp,prot[:-4])"
   ]
  },
  {
   "cell_type": "code",
   "execution_count": 6,
   "metadata": {},
   "outputs": [
    {
     "name": "stderr",
     "output_type": "stream",
     "text": [
      "\n",
      "  0%|          | 0/3 [00:00<?, ?it/s]\n",
      " 33%|███▎      | 1/3 [00:05<00:11,  5.96s/it]\n",
      " 67%|██████▋   | 2/3 [00:12<00:06,  6.11s/it]\n",
      "100%|██████████| 3/3 [00:18<00:00,  6.12s/it]\n"
     ]
    }
   ],
   "source": [
    "from tqdm import tqdm\n",
    "for fn in tqdm(file_names):\n",
    "    #os.chdir(\"C:/Users/DerUser/Desktop/course_work/kegg_complexes\")\n",
    "    prot1 = fn[18:-11] #P12345\n",
    "    prot2 = fn[25:-4]\n",
    "    os.chdir(\"C:/Users/DerUser/Desktop/course_work/kegg1_upd_top\")\n",
    "    file = open(fn,'r')\n",
    "    for line in file:\n",
    "        s = line.split(' ')\n",
    "        t1 = s[0]   #i1a22.pdb\n",
    "        t2 = s[1]\n",
    "        flag = s[2]\n",
    "        tm = float(s[3])\n",
    "    \n",
    "        os.chdir(\"C:/Users/DerUser/Desktop/course_work/kegg1\")\n",
    "        arr1 = get_array_from_matrix(prot1,t1[:-4],flag)\n",
    "        arr2 = get_array_from_matrix(prot2,t2[:-4],flag)\n",
    "        run_pymol_complex(prot1+'.pdb',t1,flag,arr1)\n",
    "        run_pymol_complex(prot2+'.pdb',t2,flag,arr2)\n",
    "    \n",
    "        os.chdir(\"C:/Users/DerUser/Desktop/course_work/kegg1_after_matrix\")\n",
    "        file1 = open(prot1+'_'+t1,'r')\n",
    "        file2 = open(prot2+'_'+t2,'r')\n",
    "        file_out = open(prot1+'_'+t1[:-4]+'_'+prot2+'_'+t2[:-4]+'.pdb','w')\n",
    "        if flag == 'i':\n",
    "            os.chdir(\"C:/Users/DerUser/Desktop/course_work/interfaces/templates\")\n",
    "            file3 = open('i'+t1,'r')\n",
    "            file4 = open('i'+t2,'r')\n",
    "            os.chdir(\"C:/Users/DerUser/Desktop/course_work/kegg1_after_matrix\")\n",
    "            file_out34 = open('i'+'_'+t1[:-6]+'.pdb','w')\n",
    "        else:\n",
    "            os.chdir(\"C:/Users/DerUser/Desktop/course_work/full_structures/templates\")\n",
    "            file3 = open(t1,'r')\n",
    "            file4 = open(t2,'r')\n",
    "            os.chdir(\"C:/Users/DerUser/Desktop/course_work/kegg1_after_matrix\")\n",
    "            file_out34 = open(t1[:-6]+'.pdb','w')\n",
    "       \n",
    "    \n",
    "        for line in file3:\n",
    "            if line.startswith('TER') or line.startswith('END'):\n",
    "                break\n",
    "            else:\n",
    "                file_out34.write(line)\n",
    "        file3.close()\n",
    "        \n",
    "        for line in file4:\n",
    "            file_out34.write(line)\n",
    "        file_out34.close()\n",
    "        file4.close()\n",
    "        \n",
    "        for line in file1:\n",
    "            if line.startswith('TER') or line.startswith('END'):\n",
    "                break\n",
    "            else:\n",
    "                file_out.write(line)\n",
    "        file1.close()\n",
    "        \n",
    "        for line in file2:\n",
    "            file_out.write(line)\n",
    "        file_out.close()\n",
    "        file2.close()\n",
    "    file.close()"
   ]
  },
  {
   "cell_type": "code",
   "execution_count": null,
   "metadata": {},
   "outputs": [],
   "source": [
    "from pymol import cmd\n",
    "def run_pymol_rmsd(prot,tmp,f):\n",
    "    cmd.reinitialize()\n",
    "    os.chdir(\"C:/Users/DerUser/Desktop/course_work/kegg1_after_matrix\")\n",
    "    print(prot)\n",
    "    print(tmp)\n",
    "    cmd.load(prot)\n",
    "    if flag == 'i':\n",
    "        cmd.load('i_'+tmp)\n",
    "    if flag == 'fs':\n",
    "        cmd.load(tmp)\n",
    "    cmd.alter('all','segi=\"\"')\n",
    "    cmd.alter('all','chain=\"\"')\n",
    "    return cmd.rms_cur(prot[:-4],'i_'+tmp[:-4])"
   ]
  },
  {
   "cell_type": "code",
   "execution_count": null,
   "metadata": {},
   "outputs": [],
   "source": [
    "for fn in file_names:\n",
    "    os.chdir(\"C:/Users/DerUser/Desktop/course_work/kegg1_upd_top\")\n",
    "    file = open(fn,'r')\n",
    "    prot1 = fn[18:-11]\n",
    "    prot2 = fn[25:-4]\n",
    "    file_out = open('rmsd_'+fn,'w')\n",
    "    for line in file:\n",
    "        arr = line.split(' ')\n",
    "        tmp1 = arr[0]\n",
    "        tmp2 = arr[1]\n",
    "        flag = arr[2]\n",
    "        file_name = prot1+'_'+tmp1[:-4]+'_'+prot2+'_'+tmp2\n",
    "        rmsd = run_pymol_rmsd(file_name,tmp1[:-6]+'.pdb',flag)\n",
    "        os.chdir(\"C:/Users/DerUser/Desktop/course_work/kegg1_upd_top\")\n",
    "        file_out.write(line[:-1]+ ' '+str(rmsd)+'\\n')\n",
    "    file_out.close()\n",
    "    file.close()"
   ]
  },
  {
   "cell_type": "code",
   "execution_count": null,
   "metadata": {},
   "outputs": [],
   "source": []
  }
 ],
 "metadata": {
  "kernelspec": {
   "display_name": "Python 3",
   "language": "python",
   "name": "python3"
  },
  "language_info": {
   "codemirror_mode": {
    "name": "ipython",
    "version": 3
   },
   "file_extension": ".py",
   "mimetype": "text/x-python",
   "name": "python",
   "nbconvert_exporter": "python",
   "pygments_lexer": "ipython3",
   "version": "3.7.4"
  }
 },
 "nbformat": 4,
 "nbformat_minor": 2
}
