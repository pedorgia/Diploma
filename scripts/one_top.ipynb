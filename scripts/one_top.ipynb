{
 "cells": [
  {
   "cell_type": "code",
   "execution_count": 1,
   "metadata": {},
   "outputs": [],
   "source": [
    "import glob,os\n",
    "tmp = []\n",
    "os.chdir(\"C:/Users/DerUser/Desktop/course_work/kegg1_i_top\")\n",
    "for file in glob.glob(\"*.txt\"):\n",
    "    if file.startswith('new'):\n",
    "        tmp.append(file)"
   ]
  },
  {
   "cell_type": "code",
   "execution_count": 2,
   "metadata": {},
   "outputs": [],
   "source": [
    "size = len(tmp)"
   ]
  },
  {
   "cell_type": "code",
   "execution_count": 3,
   "metadata": {},
   "outputs": [],
   "source": [
    "fs = []\n",
    "inter = []\n",
    "for i in range(size):\n",
    "    os.chdir(\"C:/Users/DerUser/Desktop/course_work/kegg1_top\")\n",
    "    file1 = open('new_top_'+tmp[i][10:],'r')\n",
    "    p1 = []\n",
    "    tm11 = []\n",
    "    tm12 = []\n",
    "    flag1 = ''\n",
    "    \n",
    "    os.chdir(\"C:/Users/DerUser/Desktop/course_work/kegg1_i_top\")\n",
    "    file2 = open(tmp[i],'r')\n",
    "    p2 = []\n",
    "    tm21 = []\n",
    "    tm22 = []\n",
    "    flag2 = ''\n",
    "    \n",
    "    for line in file1:\n",
    "        arr = line.split(' ')\n",
    "        p1.append(arr[0])\n",
    "        tm11.append(float(arr[1]))\n",
    "        tm12.append(float(arr[2]))\n",
    "    file1.close()\n",
    "    \n",
    "    for line in file2:\n",
    "        arr = line.split(' ')\n",
    "        p2.append(arr[0])\n",
    "        tm21.append(float(arr[1]))\n",
    "        tm22.append(float(arr[2]))\n",
    "    file2.close()\n",
    "    \n",
    "    os.chdir(\"C:/Users/DerUser/Desktop/course_work/kegg1_upd_top\")\n",
    "    file_out = open('upd_top_'+tmp[i][10:],'w')\n",
    "    for j in range(0,len(p1),2):\n",
    "        min_1 = min(min(tm11[j],tm12[j+1]),min(tm21[j],tm22[j+1]))\n",
    "        if min_1 == min(tm11[j],tm12[j+1]):\n",
    "            flag1 = 'fs'\n",
    "        else:\n",
    "            flag1 = 'i'\n",
    "        min_2 = min(min(tm11[j+1],tm12[j]),min(tm21[j+1],tm22[j]))\n",
    "        if min_2 == min(tm11[j+1],tm12[j]):\n",
    "            flag2 = 'fs'\n",
    "        else:\n",
    "            flag2 = 'i'\n",
    "        file_out.write(p1[j]+ ' '+p1[j+1] + ' ' +flag1 + ' ' +str(min_1)+'\\n')\n",
    "        file_out.write(p1[j+1]+ ' '+p1[j] + ' ' +flag2 + ' ' +str(min_2)+ '\\n')\n",
    "    file_out.close()"
   ]
  },
  {
   "cell_type": "code",
   "execution_count": null,
   "metadata": {},
   "outputs": [],
   "source": []
  }
 ],
 "metadata": {
  "kernelspec": {
   "display_name": "Python 3",
   "language": "python",
   "name": "python3"
  },
  "language_info": {
   "codemirror_mode": {
    "name": "ipython",
    "version": 3
   },
   "file_extension": ".py",
   "mimetype": "text/x-python",
   "name": "python",
   "nbconvert_exporter": "python",
   "pygments_lexer": "ipython3",
   "version": "3.7.4"
  }
 },
 "nbformat": 4,
 "nbformat_minor": 2
}
